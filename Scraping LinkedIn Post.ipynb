{
 "cells": [
  {
   "cell_type": "code",
   "execution_count": null,
   "id": "ee6ff598",
   "metadata": {},
   "outputs": [],
   "source": [
    "pip install requests"
   ]
  },
  {
   "cell_type": "code",
   "execution_count": null,
   "id": "f16605d3",
   "metadata": {
    "scrolled": true
   },
   "outputs": [],
   "source": [
    "pip install beautifulsoup4"
   ]
  },
  {
   "cell_type": "code",
   "execution_count": null,
   "id": "7ae05106",
   "metadata": {
    "scrolled": true
   },
   "outputs": [],
   "source": [
    "pip install selenium"
   ]
  },
  {
   "cell_type": "code",
   "execution_count": 1,
   "id": "1686661f",
   "metadata": {},
   "outputs": [],
   "source": [
    "import requests\n",
    "from bs4 import BeautifulSoup"
   ]
  },
  {
   "cell_type": "code",
   "execution_count": 2,
   "id": "afa5cbf6",
   "metadata": {},
   "outputs": [],
   "source": [
    "post_url = 'https://www.linkedin.com/in/jpctan/recent-activity/'\n",
    "response = requests.get(post_url)"
   ]
  },
  {
   "cell_type": "code",
   "execution_count": 3,
   "id": "1697730d",
   "metadata": {},
   "outputs": [],
   "source": [
    "soup = BeautifulSoup(response.content, 'html.parser')"
   ]
  },
  {
   "cell_type": "code",
   "execution_count": 7,
   "id": "4d00d6b3",
   "metadata": {},
   "outputs": [
    {
     "ename": "NameError",
     "evalue": "name 'span' is not defined",
     "output_type": "error",
     "traceback": [
      "\u001b[1;31m---------------------------------------------------------------------------\u001b[0m",
      "\u001b[1;31mNameError\u001b[0m                                 Traceback (most recent call last)",
      "Input \u001b[1;32mIn [7]\u001b[0m, in \u001b[0;36m<cell line: 2>\u001b[1;34m()\u001b[0m\n\u001b[0;32m      1\u001b[0m \u001b[38;5;66;03m# Extract the post content\u001b[39;00m\n\u001b[1;32m----> 2\u001b[0m post_content \u001b[38;5;241m=\u001b[39m soup\u001b[38;5;241m.\u001b[39mfind(\u001b[43mspan\u001b[49m, class_\u001b[38;5;241m=\u001b[39m\u001b[38;5;124m\"\u001b[39m\u001b[38;5;124mbreak-words\u001b[39m\u001b[38;5;124m\"\u001b[39m)\n\u001b[0;32m      4\u001b[0m \u001b[38;5;66;03m# Extract the post text\u001b[39;00m\n\u001b[0;32m      5\u001b[0m post_text \u001b[38;5;241m=\u001b[39m post_content\u001b[38;5;241m.\u001b[39mget_text(strip\u001b[38;5;241m=\u001b[39m\u001b[38;5;28;01mTrue\u001b[39;00m)\n",
      "\u001b[1;31mNameError\u001b[0m: name 'span' is not defined"
     ]
    }
   ],
   "source": [
    "# Extract the post content\n",
    "post_content = soup.find(span, class_=\"break-words\")\n",
    "\n",
    "# Extract the post text\n",
    "post_text = post_content.get_text(strip=True)"
   ]
  },
  {
   "cell_type": "code",
   "execution_count": null,
   "id": "fc3b41a4",
   "metadata": {},
   "outputs": [],
   "source": [
    "print(post_content)"
   ]
  },
  {
   "cell_type": "code",
   "execution_count": 1,
   "id": "27a0f2c9",
   "metadata": {},
   "outputs": [],
   "source": [
    "string = \"\"\"#Benoy is proud to support and present at The University of Hong Kong (HKU) ‘Building Code’ project focusing on regulations in #HongKong, #Singapore and #Shenzhen. Organised by the Urban Land Institute (ULI), the studio-based design project work took place on 6 September 2022 at the Architecture Department of University of Hong Kong.\n",
    "\n",
    "In this new learning format, the students can interact and learn from senior #architects practitioners via real-life projects.\n",
    "\n",
    "Attended in-person and virtually, Benoy Design Director, Gregory Kovacs and Architect Associate Director, Jason Tan discussed the salient aspects of the building codes of three #cities and highlight the differences in understanding how they can uplift built environment to the #society and #community when transported into sites in Hong Kong for #design projects. Senior Associate Director, Azaria Lee then joined virtually to take questions from the audience in the final Q&A session.\n",
    "\n",
    "Thanks to #ULI for organising, the students and lecturers of #HKU for having us!\n",
    "\n",
    "https://lnkd.in/g24uMf2e\n",
    "\n",
    "#architecture #香港大學 #HKUarchitecture #hongkongarchitecture #speaker #communities #buildingdesign #futurecities\"\"\""
   ]
  },
  {
   "cell_type": "code",
   "execution_count": null,
   "id": "89c01f63",
   "metadata": {},
   "outputs": [],
   "source": [
    "print(string)"
   ]
  },
  {
   "cell_type": "code",
   "execution_count": 2,
   "id": "a67fd530",
   "metadata": {
    "scrolled": true
   },
   "outputs": [
    {
     "data": {
      "text/plain": [
       "'Benoy is proud to support and present at The University of Hong Kong HKU Building Code project focusing on regulations in HongKong Singapore and Shenzhen Organised by the Urban Land Institute ULI the studiobased design project work took place on 6 September 2022 at the Architecture Department of University of Hong KongIn this new learning format the students can interact and learn from senior architects practitioners via reallife projectsAttended inperson and virtually Benoy Design Director Gregory Kovacs and Architect Associate Director Jason Tan discussed the salient aspects of the building codes of three cities and highlight the differences in understanding how they can uplift built environment to the society and community when transported into sites in Hong Kong for design projects Senior Associate Director Azaria Lee then joined virtually to take questions from the audience in the final QA sessionThanks to ULI for organising the students and lecturers of HKU for having ushttpslnkding24uMf2earchitecture 香港大學 HKUarchitecture hongkongarchitecture speaker communities buildingdesign futurecities'"
      ]
     },
     "execution_count": 2,
     "metadata": {},
     "output_type": "execute_result"
    }
   ],
   "source": [
    "new_str = \"\"\n",
    "for i in string:\n",
    "    if(i.isalpha() or i == \" \" or i.isdigit()):\n",
    "        new_str+=i\n",
    "    \n",
    "new_str"
   ]
  },
  {
   "cell_type": "code",
   "execution_count": null,
   "id": "41c06e11",
   "metadata": {},
   "outputs": [],
   "source": [
    "import pandas as pd"
   ]
  },
  {
   "cell_type": "code",
   "execution_count": null,
   "id": "7ccf946c",
   "metadata": {},
   "outputs": [],
   "source": [
    "df = pd.DataFrame(new_str.split(' '))"
   ]
  },
  {
   "cell_type": "code",
   "execution_count": null,
   "id": "dd2ce5ed",
   "metadata": {},
   "outputs": [],
   "source": [
    "df.rename(columns={0:'words'}, inplace=True)"
   ]
  },
  {
   "cell_type": "code",
   "execution_count": null,
   "id": "ece36e6a",
   "metadata": {},
   "outputs": [],
   "source": [
    "df['words'].value_counts()"
   ]
  },
  {
   "cell_type": "code",
   "execution_count": null,
   "id": "d18e7c99",
   "metadata": {},
   "outputs": [],
   "source": []
  }
 ],
 "metadata": {
  "kernelspec": {
   "display_name": "Python 3 (ipykernel)",
   "language": "python",
   "name": "python3"
  },
  "language_info": {
   "codemirror_mode": {
    "name": "ipython",
    "version": 3
   },
   "file_extension": ".py",
   "mimetype": "text/x-python",
   "name": "python",
   "nbconvert_exporter": "python",
   "pygments_lexer": "ipython3",
   "version": "3.9.12"
  }
 },
 "nbformat": 4,
 "nbformat_minor": 5
}

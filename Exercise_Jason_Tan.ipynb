{
 "cells": [
  {
   "cell_type": "markdown",
   "id": "deb86c43-031b-4216-8b37-dbe89bedb062",
   "metadata": {},
   "source": [
    "# EXERCISE: SCRAPING LINKEDIN POST"
   ]
  },
  {
   "cell_type": "markdown",
   "id": "58e862d6-0254-4a7a-bb12-ffea1cad147c",
   "metadata": {},
   "source": [
    "### Objective: To find out the words that Jason Tan uses most frequently from his LinkedIn posts in 2021 and 2022."
   ]
  },
  {
   "cell_type": "markdown",
   "id": "6f2eb7ee-56a5-43b9-9cb5-96b90c240df1",
   "metadata": {},
   "source": [
    "#### Tool used: Python"
   ]
  },
  {
   "cell_type": "markdown",
   "id": "ab61cc59-57ab-4335-8698-e6759a2720b0",
   "metadata": {},
   "source": [
    "#### Key Tasks: \n",
    "*Scraping Data*\n",
    "1. Importing libraries, including selenium, webdriver, By, and time\n",
    "2. Installing chrome web browser into notebook\n",
    "3. Browsing LinkedIn and pushing log in credential into `https://linkedin.com`\n",
    "4. Browsing Jason Tan's LinkedIn posts from the link `https://www.linkedin.com/in/jpctan/recent-activity/all/`\n",
    "5. Loading all pages untill the post timing is `3yr` from now\n",
    "6. Scraping all the posts from those pages using `//tagname[@Attribute=’value’]`\n",
    "7. Exporting scraped data into an excel file\n",
    "\n",
    "*Analyzing Data*\n",
    "1. Importing libraries, including pandas, matplotlib.pyplot, nltk, stopwords, and openpyxl\n",
    "2. Loading data from that excel file into a dataframe\n",
    "3. Triming first 15% and last 16% data which are approximately the data of first 5 months and last six months, resulting approximately the posts from 2021 and 2022\n",
    "4. Collecting all posts frm the dataframe in a single string and making all characters in lower case\n",
    "5. Removing regular expressions from the string\n",
    "6. Removing stopwords from the string\n",
    "7. Keeping only alphanumeric characters in the string\n",
    "8. Extracting words form the string\n",
    "9. Loading those words into a dataframe\n",
    "10. Cleaning the dataframe\n",
    "11. Visualising the result in a bar chart of first 20 most frequent words that consist in the data set"
   ]
  },
  {
   "cell_type": "markdown",
   "id": "44519b9c-fedb-421e-9573-a02f9c7ba58d",
   "metadata": {},
   "source": [
    "### Outcome: There are 30928 meaningfull words used where 5756 are uniqie. The most frequent word is `data` followed by `analytics`, `business`, `ai`, and so on shown in the bar chart below."
   ]
  },
  {
   "cell_type": "code",
   "execution_count": 10,
   "id": "809273ae-129a-461c-a790-a06cc8aee85e",
   "metadata": {
    "jupyter": {
     "source_hidden": true
    }
   },
   "outputs": [],
   "source": [
    "import pandas as pd\n",
    "import matplotlib.pyplot as plt\n",
    "import seaborn as sns\n",
    "import openpyxl"
   ]
  },
  {
   "cell_type": "code",
   "execution_count": 6,
   "id": "331f689b-26e0-48d8-9e30-7b351b54608b",
   "metadata": {
    "collapsed": true,
    "jupyter": {
     "outputs_hidden": true,
     "source_hidden": true
    },
    "tags": []
   },
   "outputs": [
    {
     "data": {
      "text/html": [
       "<div>\n",
       "<style scoped>\n",
       "    .dataframe tbody tr th:only-of-type {\n",
       "        vertical-align: middle;\n",
       "    }\n",
       "\n",
       "    .dataframe tbody tr th {\n",
       "        vertical-align: top;\n",
       "    }\n",
       "\n",
       "    .dataframe thead th {\n",
       "        text-align: right;\n",
       "    }\n",
       "</style>\n",
       "<table border=\"1\" class=\"dataframe\">\n",
       "  <thead>\n",
       "    <tr style=\"text-align: right;\">\n",
       "      <th></th>\n",
       "      <th>Words_in_posts</th>\n",
       "    </tr>\n",
       "  </thead>\n",
       "  <tbody>\n",
       "    <tr>\n",
       "      <th>0</th>\n",
       "      <td>day</td>\n",
       "    </tr>\n",
       "    <tr>\n",
       "      <th>1</th>\n",
       "      <td>gpt</td>\n",
       "    </tr>\n",
       "    <tr>\n",
       "      <th>2</th>\n",
       "      <td>replace</td>\n",
       "    </tr>\n",
       "    <tr>\n",
       "      <th>3</th>\n",
       "      <td>human</td>\n",
       "    </tr>\n",
       "    <tr>\n",
       "      <th>4</th>\n",
       "      <td>growth</td>\n",
       "    </tr>\n",
       "  </tbody>\n",
       "</table>\n",
       "</div>"
      ],
      "text/plain": [
       "  Words_in_posts\n",
       "0            day\n",
       "1            gpt\n",
       "2        replace\n",
       "3          human\n",
       "4         growth"
      ]
     },
     "execution_count": 6,
     "metadata": {},
     "output_type": "execute_result"
    }
   ],
   "source": [
    "df = pd.read_excel(\"df_post.xlsx\", usecols = ['Words_in_posts'])\n",
    "df.head()"
   ]
  },
  {
   "cell_type": "code",
   "execution_count": 9,
   "id": "c71ae060-67f1-4a36-9802-118ef68f537e",
   "metadata": {
    "jupyter": {
     "source_hidden": true
    }
   },
   "outputs": [
    {
     "data": {
      "image/png": "[encoded data removed]",
      "text/plain": [
       "<Figure size 1080x432 with 1 Axes>"
      ]
     },
     "metadata": {
      "needs_background": "light"
     },
     "output_type": "display_data"
    }
   ],
   "source": [
    "plt.figure(figsize=(15,6))\n",
    "df.value_counts(ascending=False)[0:20].plot(kind='bar')\n",
    "plt.title(\"Words that were used most frequently on a users' LinkedIn posts in 2021 and 2022\")\n",
    "plt.xlabel(\"\")\n",
    "plt.ylabel(\"Frequency\");"
   ]
  }
 ],
 "metadata": {
  "hide_input": true,
  "kernelspec": {
   "display_name": "Python 3 (ipykernel)",
   "language": "python",
   "name": "python3"
  },
  "language_info": {
   "codemirror_mode": {
    "name": "ipython",
    "version": 3
   },
   "file_extension": ".py",
   "mimetype": "text/x-python",
   "name": "python",
   "nbconvert_exporter": "python",
   "pygments_lexer": "ipython3",
   "version": "3.9.12"
  }
 },
 "nbformat": 4,
 "nbformat_minor": 5
}

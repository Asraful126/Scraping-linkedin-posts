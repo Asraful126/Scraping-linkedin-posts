{
 "cells": [
  {
   "cell_type": "markdown",
   "id": "90f2a949",
   "metadata": {},
   "source": [
    "# Library"
   ]
  },
  {
   "cell_type": "code",
   "execution_count": 1,
   "id": "97129c87",
   "metadata": {},
   "outputs": [],
   "source": [
    "import selenium\n",
    "from selenium import webdriver\n",
    "from selenium.webdriver.common.keys import Keys\n",
    "from selenium.webdriver.support import expected_conditions as EC\n",
    "from selenium.webdriver.common.by import By\n",
    "from selenium.webdriver.support.wait import WebDriverWait\n",
    "import time"
   ]
  },
  {
   "cell_type": "markdown",
   "id": "663fe970",
   "metadata": {},
   "source": [
    "# Browser: Chrome"
   ]
  },
  {
   "cell_type": "code",
   "execution_count": 2,
   "id": "b270db9d",
   "metadata": {
    "scrolled": true
   },
   "outputs": [
    {
     "name": "stderr",
     "output_type": "stream",
     "text": [
      "C:\\Users\\Asraful Islam\\AppData\\Local\\Temp\\ipykernel_9984\\1391488270.py:1: DeprecationWarning: executable_path has been deprecated, please pass in a Service object\n",
      "  driver = webdriver.Chrome(\"C:/webdriver/chromedriver.exe\")\n"
     ]
    }
   ],
   "source": [
    "driver = webdriver.Chrome(\"C:/webdriver/chromedriver.exe\")\n",
    "driver.get(\"https://linkedin.com\")\n",
    "time.sleep(5)"
   ]
  },
  {
   "cell_type": "markdown",
   "id": "2798d35a",
   "metadata": {},
   "source": [
    "# Login"
   ]
  },
  {
   "cell_type": "code",
   "execution_count": 3,
   "id": "583f6642",
   "metadata": {},
   "outputs": [
    {
     "ename": "NoSuchElementException",
     "evalue": "Message: no such element: Unable to locate element: {\"method\":\"xpath\",\"selector\":\"//input[@name='session_key']\"}\n  (Session info: chrome=113.0.5672.127)\nStacktrace:\nBacktrace:\n\tGetHandleVerifier [0x00CB8893+48451]\n\t(No symbol) [0x00C4B8A1]\n\t(No symbol) [0x00B55058]\n\t(No symbol) [0x00B80467]\n\t(No symbol) [0x00B8069B]\n\t(No symbol) [0x00BADD92]\n\t(No symbol) [0x00B9A304]\n\t(No symbol) [0x00BAC482]\n\t(No symbol) [0x00B9A0B6]\n\t(No symbol) [0x00B77E08]\n\t(No symbol) [0x00B78F2D]\n\tGetHandleVerifier [0x00F18E3A+2540266]\n\tGetHandleVerifier [0x00F58959+2801161]\n\tGetHandleVerifier [0x00F5295C+2776588]\n\tGetHandleVerifier [0x00D42280+612144]\n\t(No symbol) [0x00C54F6C]\n\t(No symbol) [0x00C511D8]\n\t(No symbol) [0x00C512BB]\n\t(No symbol) [0x00C44857]\n\tBaseThreadInitThunk [0x767900C9+25]\n\tRtlGetAppContainerNamedObjectPath [0x772E7B4E+286]\n\tRtlGetAppContainerNamedObjectPath [0x772E7B1E+238]\n",
     "output_type": "error",
     "traceback": [
      "\u001b[1;31m---------------------------------------------------------------------------\u001b[0m",
      "\u001b[1;31mNoSuchElementException\u001b[0m                    Traceback (most recent call last)",
      "Input \u001b[1;32mIn [3]\u001b[0m, in \u001b[0;36m<cell line: 1>\u001b[1;34m()\u001b[0m\n\u001b[1;32m----> 1\u001b[0m username \u001b[38;5;241m=\u001b[39m \u001b[43mdriver\u001b[49m\u001b[38;5;241;43m.\u001b[39;49m\u001b[43mfind_element\u001b[49m\u001b[43m(\u001b[49m\u001b[43mby\u001b[49m\u001b[38;5;241;43m=\u001b[39;49m\u001b[43mBy\u001b[49m\u001b[38;5;241;43m.\u001b[39;49m\u001b[43mXPATH\u001b[49m\u001b[43m,\u001b[49m\u001b[43m \u001b[49m\u001b[43mvalue\u001b[49m\u001b[38;5;241;43m=\u001b[39;49m\u001b[38;5;124;43m\"\u001b[39;49m\u001b[38;5;124;43m//input[@name=\u001b[39;49m\u001b[38;5;124;43m'\u001b[39;49m\u001b[38;5;124;43msession_key\u001b[39;49m\u001b[38;5;124;43m'\u001b[39;49m\u001b[38;5;124;43m]\u001b[39;49m\u001b[38;5;124;43m\"\u001b[39;49m\u001b[43m)\u001b[49m\n\u001b[0;32m      2\u001b[0m password \u001b[38;5;241m=\u001b[39m driver\u001b[38;5;241m.\u001b[39mfind_element(by\u001b[38;5;241m=\u001b[39mBy\u001b[38;5;241m.\u001b[39mXPATH, value\u001b[38;5;241m=\u001b[39m\u001b[38;5;124m\"\u001b[39m\u001b[38;5;124m//input[@name=\u001b[39m\u001b[38;5;124m'\u001b[39m\u001b[38;5;124msession_password\u001b[39m\u001b[38;5;124m'\u001b[39m\u001b[38;5;124m]\u001b[39m\u001b[38;5;124m\"\u001b[39m)\n\u001b[0;32m      4\u001b[0m username\u001b[38;5;241m.\u001b[39msend_keys(\u001b[38;5;124m\"\u001b[39m\u001b[38;5;124masraful.islam2@alumni.griffithuni.edu.au\u001b[39m\u001b[38;5;124m\"\u001b[39m)\n",
      "File \u001b[1;32m~\\anaconda3\\lib\\site-packages\\selenium\\webdriver\\remote\\webdriver.py:831\u001b[0m, in \u001b[0;36mWebDriver.find_element\u001b[1;34m(self, by, value)\u001b[0m\n\u001b[0;32m    828\u001b[0m     by \u001b[38;5;241m=\u001b[39m By\u001b[38;5;241m.\u001b[39mCSS_SELECTOR\n\u001b[0;32m    829\u001b[0m     value \u001b[38;5;241m=\u001b[39m \u001b[38;5;124mf\u001b[39m\u001b[38;5;124m'\u001b[39m\u001b[38;5;124m[name=\u001b[39m\u001b[38;5;124m\"\u001b[39m\u001b[38;5;132;01m{\u001b[39;00mvalue\u001b[38;5;132;01m}\u001b[39;00m\u001b[38;5;124m\"\u001b[39m\u001b[38;5;124m]\u001b[39m\u001b[38;5;124m'\u001b[39m\n\u001b[1;32m--> 831\u001b[0m \u001b[38;5;28;01mreturn\u001b[39;00m \u001b[38;5;28;43mself\u001b[39;49m\u001b[38;5;241;43m.\u001b[39;49m\u001b[43mexecute\u001b[49m\u001b[43m(\u001b[49m\u001b[43mCommand\u001b[49m\u001b[38;5;241;43m.\u001b[39;49m\u001b[43mFIND_ELEMENT\u001b[49m\u001b[43m,\u001b[49m\u001b[43m \u001b[49m\u001b[43m{\u001b[49m\u001b[38;5;124;43m\"\u001b[39;49m\u001b[38;5;124;43musing\u001b[39;49m\u001b[38;5;124;43m\"\u001b[39;49m\u001b[43m:\u001b[49m\u001b[43m \u001b[49m\u001b[43mby\u001b[49m\u001b[43m,\u001b[49m\u001b[43m \u001b[49m\u001b[38;5;124;43m\"\u001b[39;49m\u001b[38;5;124;43mvalue\u001b[39;49m\u001b[38;5;124;43m\"\u001b[39;49m\u001b[43m:\u001b[49m\u001b[43m \u001b[49m\u001b[43mvalue\u001b[49m\u001b[43m}\u001b[49m\u001b[43m)\u001b[49m[\u001b[38;5;124m\"\u001b[39m\u001b[38;5;124mvalue\u001b[39m\u001b[38;5;124m\"\u001b[39m]\n",
      "File \u001b[1;32m~\\anaconda3\\lib\\site-packages\\selenium\\webdriver\\remote\\webdriver.py:440\u001b[0m, in \u001b[0;36mWebDriver.execute\u001b[1;34m(self, driver_command, params)\u001b[0m\n\u001b[0;32m    438\u001b[0m response \u001b[38;5;241m=\u001b[39m \u001b[38;5;28mself\u001b[39m\u001b[38;5;241m.\u001b[39mcommand_executor\u001b[38;5;241m.\u001b[39mexecute(driver_command, params)\n\u001b[0;32m    439\u001b[0m \u001b[38;5;28;01mif\u001b[39;00m response:\n\u001b[1;32m--> 440\u001b[0m     \u001b[38;5;28;43mself\u001b[39;49m\u001b[38;5;241;43m.\u001b[39;49m\u001b[43merror_handler\u001b[49m\u001b[38;5;241;43m.\u001b[39;49m\u001b[43mcheck_response\u001b[49m\u001b[43m(\u001b[49m\u001b[43mresponse\u001b[49m\u001b[43m)\u001b[49m\n\u001b[0;32m    441\u001b[0m     response[\u001b[38;5;124m\"\u001b[39m\u001b[38;5;124mvalue\u001b[39m\u001b[38;5;124m\"\u001b[39m] \u001b[38;5;241m=\u001b[39m \u001b[38;5;28mself\u001b[39m\u001b[38;5;241m.\u001b[39m_unwrap_value(response\u001b[38;5;241m.\u001b[39mget(\u001b[38;5;124m\"\u001b[39m\u001b[38;5;124mvalue\u001b[39m\u001b[38;5;124m\"\u001b[39m, \u001b[38;5;28;01mNone\u001b[39;00m))\n\u001b[0;32m    442\u001b[0m     \u001b[38;5;28;01mreturn\u001b[39;00m response\n",
      "File \u001b[1;32m~\\anaconda3\\lib\\site-packages\\selenium\\webdriver\\remote\\errorhandler.py:245\u001b[0m, in \u001b[0;36mErrorHandler.check_response\u001b[1;34m(self, response)\u001b[0m\n\u001b[0;32m    243\u001b[0m         alert_text \u001b[38;5;241m=\u001b[39m value[\u001b[38;5;124m\"\u001b[39m\u001b[38;5;124malert\u001b[39m\u001b[38;5;124m\"\u001b[39m]\u001b[38;5;241m.\u001b[39mget(\u001b[38;5;124m\"\u001b[39m\u001b[38;5;124mtext\u001b[39m\u001b[38;5;124m\"\u001b[39m)\n\u001b[0;32m    244\u001b[0m     \u001b[38;5;28;01mraise\u001b[39;00m exception_class(message, screen, stacktrace, alert_text)  \u001b[38;5;66;03m# type: ignore[call-arg]  # mypy is not smart enough here\u001b[39;00m\n\u001b[1;32m--> 245\u001b[0m \u001b[38;5;28;01mraise\u001b[39;00m exception_class(message, screen, stacktrace)\n",
      "\u001b[1;31mNoSuchElementException\u001b[0m: Message: no such element: Unable to locate element: {\"method\":\"xpath\",\"selector\":\"//input[@name='session_key']\"}\n  (Session info: chrome=113.0.5672.127)\nStacktrace:\nBacktrace:\n\tGetHandleVerifier [0x00CB8893+48451]\n\t(No symbol) [0x00C4B8A1]\n\t(No symbol) [0x00B55058]\n\t(No symbol) [0x00B80467]\n\t(No symbol) [0x00B8069B]\n\t(No symbol) [0x00BADD92]\n\t(No symbol) [0x00B9A304]\n\t(No symbol) [0x00BAC482]\n\t(No symbol) [0x00B9A0B6]\n\t(No symbol) [0x00B77E08]\n\t(No symbol) [0x00B78F2D]\n\tGetHandleVerifier [0x00F18E3A+2540266]\n\tGetHandleVerifier [0x00F58959+2801161]\n\tGetHandleVerifier [0x00F5295C+2776588]\n\tGetHandleVerifier [0x00D42280+612144]\n\t(No symbol) [0x00C54F6C]\n\t(No symbol) [0x00C511D8]\n\t(No symbol) [0x00C512BB]\n\t(No symbol) [0x00C44857]\n\tBaseThreadInitThunk [0x767900C9+25]\n\tRtlGetAppContainerNamedObjectPath [0x772E7B4E+286]\n\tRtlGetAppContainerNamedObjectPath [0x772E7B1E+238]\n"
     ]
    }
   ],
   "source": [
    "username = driver.find_element(by=By.XPATH, value=\"//input[@name='session_key']\")\n",
    "password = driver.find_element(by=By.XPATH, value=\"//input[@name='session_password']\")\n",
    "\n",
    "username.send_keys(\"asraful.islam2@alumni.griffithuni.edu.au\")\n",
    "psw = input('Enter password: ')\n",
    "password.send_keys(psw)\n",
    "\n",
    "sign_in_button = driver.find_element(by=By.XPATH, value=\"//button[@type='submit']\").click()\n",
    "\n",
    "time.sleep(10)\n"
   ]
  },
  {
   "cell_type": "markdown",
   "id": "da30544c",
   "metadata": {},
   "source": [
    "# Link of the posts to be scrapped"
   ]
  },
  {
   "cell_type": "code",
   "execution_count": null,
   "id": "e7aef8c2",
   "metadata": {},
   "outputs": [],
   "source": [
    "driver.get(\"https://www.linkedin.com/in/jpctan/recent-activity/\")\n",
    "time.sleep(2)\n",
    "posts_button = driver.find_element(by=By.XPATH, value=\"//button[@id='ember14']\").click()"
   ]
  },
  {
   "cell_type": "markdown",
   "id": "0c89ee5a",
   "metadata": {},
   "source": [
    "# Load next page"
   ]
  },
  {
   "cell_type": "code",
   "execution_count": null,
   "id": "a8facebc",
   "metadata": {},
   "outputs": [],
   "source": [
    "while True:\n",
    "    post_time = driver.find_elements(By.XPATH, \"//div[@class='update-components-text-view break-words ']\")\n",
    "        \n",
    "    if str(post_time[-1].text).split(' ')[0] == '3yr':\n",
    "        break\n",
    "        \n",
    "    load_next_page = driver.find_element(by=By.XPATH, value=\"//button[@class='artdeco-button artdeco-button--muted artdeco-button--1 artdeco-button--full artdeco-button--secondary ember-view scaffold-finite-scroll__load-button']\")\n",
    "    load_next_page.click()\n",
    "    time.sleep(5)\n"
   ]
  },
  {
   "cell_type": "markdown",
   "id": "e5f5170e-b102-41bb-9f2f-e4bfb176c723",
   "metadata": {},
   "source": [
    "# Scrape posts"
   ]
  },
  {
   "cell_type": "code",
   "execution_count": null,
   "id": "bc196c76-5bc1-43f2-8c13-20788da7e3bc",
   "metadata": {},
   "outputs": [],
   "source": [
    "post = driver.find_elements(By.XPATH, \"//div[@class='update-components-text relative feed-shared-update-v2__commentary ']\")"
   ]
  },
  {
   "cell_type": "markdown",
   "id": "84a41e1f",
   "metadata": {},
   "source": [
    "# Check data"
   ]
  },
  {
   "cell_type": "code",
   "execution_count": null,
   "id": "5822f129-5d27-4951-b875-bb26d0541ff3",
   "metadata": {},
   "outputs": [],
   "source": [
    "type(post_time), type(post)"
   ]
  },
  {
   "cell_type": "code",
   "execution_count": null,
   "id": "e6c4cad1-6d10-44cc-89ff-7f0935626781",
   "metadata": {},
   "outputs": [],
   "source": [
    "str(post_time[-8].text).split(' ')[0], str(post[-8].text)"
   ]
  },
  {
   "cell_type": "code",
   "execution_count": null,
   "id": "b5c72fcd",
   "metadata": {},
   "outputs": [],
   "source": [
    "print(len(post_time))\n",
    "print(len(post))"
   ]
  },
  {
   "cell_type": "markdown",
   "id": "3e849262-511f-4a8f-a8d8-89f0e5c618b9",
   "metadata": {},
   "source": [
    "-  n(time) > n(post): Some posts do not have content to be scrapped"
   ]
  },
  {
   "cell_type": "markdown",
   "id": "1d183ea5-3e5f-4f1b-bf6c-9af4a8ad76b4",
   "metadata": {},
   "source": [
    "# Tranfer raw data into data frame"
   ]
  },
  {
   "cell_type": "markdown",
   "id": "c91ba537-f2f3-4697-b369-230491f7dfa9",
   "metadata": {},
   "source": [
    "## Time"
   ]
  },
  {
   "cell_type": "code",
   "execution_count": null,
   "id": "83d27df7-9195-4cfd-9cc1-a6a6de9c8358",
   "metadata": {},
   "outputs": [],
   "source": [
    "str(post_time[-8].text)"
   ]
  },
  {
   "cell_type": "code",
   "execution_count": null,
   "id": "8d7f11bb-a214-442a-af20-d095b11c9bf2",
   "metadata": {
    "tags": []
   },
   "outputs": [],
   "source": [
    "time_in_list = []\n",
    "for time in post_time:\n",
    "    time_in_list.append(str(time.text).split(' ')[0])"
   ]
  },
  {
   "cell_type": "code",
   "execution_count": null,
   "id": "5736ee03-5afe-4025-9f96-417b6b507c27",
   "metadata": {},
   "outputs": [],
   "source": [
    "print(len(time_in_list))\n",
    "print(time_in_list[0:10])"
   ]
  },
  {
   "cell_type": "code",
   "execution_count": null,
   "id": "e7b938b6-a12a-42b0-ab56-7ac9f4a6e01d",
   "metadata": {},
   "outputs": [],
   "source": [
    "import pandas as pd"
   ]
  },
  {
   "cell_type": "code",
   "execution_count": null,
   "id": "0e02d95c-274a-40bd-9c4c-d3405fe37e6d",
   "metadata": {},
   "outputs": [],
   "source": [
    "df_time = pd.DataFrame(time_in_list, columns=['time'])"
   ]
  },
  {
   "cell_type": "code",
   "execution_count": null,
   "id": "82b73435-e93c-4a08-92f1-7e9d8a964992",
   "metadata": {},
   "outputs": [],
   "source": [
    "df_time.tail(10), len(df_time)"
   ]
  },
  {
   "cell_type": "markdown",
   "id": "cf2312a6-3b3e-4247-8add-147f0e5d09ad",
   "metadata": {},
   "source": [
    "## Posts"
   ]
  },
  {
   "cell_type": "code",
   "execution_count": null,
   "id": "a7e200bb-3c4d-436f-953a-3363a94667b1",
   "metadata": {},
   "outputs": [],
   "source": [
    "post_in_list = []\n",
    "for pst in post:\n",
    "    post_in_list.append(str(pst.text))"
   ]
  },
  {
   "cell_type": "code",
   "execution_count": null,
   "id": "d1926257-ef16-4ec5-a047-faff2b547408",
   "metadata": {},
   "outputs": [],
   "source": [
    "print(len(post_in_list))\n",
    "print(post_in_list[-10])"
   ]
  },
  {
   "cell_type": "code",
   "execution_count": null,
   "id": "3c98540d-2e1a-457e-907e-0165705e62a0",
   "metadata": {},
   "outputs": [],
   "source": [
    "df_post = pd.DataFrame(post_in_list, columns=['Post'])"
   ]
  },
  {
   "cell_type": "code",
   "execution_count": null,
   "id": "6b1a6296-7586-456f-8faa-8c914f6340c9",
   "metadata": {},
   "outputs": [],
   "source": [
    "df_post.tail(10), len(df_post)"
   ]
  },
  {
   "cell_type": "markdown",
   "id": "508b621d-9021-4807-8f9b-a5f280c4b076",
   "metadata": {},
   "source": [
    "# Export data"
   ]
  },
  {
   "cell_type": "code",
   "execution_count": null,
   "id": "eee85a87-e1f0-48d5-9faf-b035c3072c97",
   "metadata": {},
   "outputs": [],
   "source": [
    "df_time.to_excel(\"Time.xlsx\")"
   ]
  },
  {
   "cell_type": "code",
   "execution_count": null,
   "id": "74188fe7-7315-4688-bc78-66003a6718a4",
   "metadata": {},
   "outputs": [],
   "source": [
    "df_post.to_excel(\"Post.xlsx\")"
   ]
  },
  {
   "cell_type": "code",
   "execution_count": null,
   "id": "872ba5a1",
   "metadata": {},
   "outputs": [],
   "source": [
    "# dataList = []\n",
    "# for i in range(len(post)):\n",
    "#     data = {str(post_time[i].text).split(' ')[0]: str(post[i].text)}\n",
    "#     dataList.append(data)"
   ]
  }
 ],
 "metadata": {
  "kernelspec": {
   "display_name": "Python 3 (ipykernel)",
   "language": "python",
   "name": "python3"
  },
  "language_info": {
   "codemirror_mode": {
    "name": "ipython",
    "version": 3
   },
   "file_extension": ".py",
   "mimetype": "text/x-python",
   "name": "python",
   "nbconvert_exporter": "python",
   "pygments_lexer": "ipython3",
   "version": "3.9.12"
  }
 },
 "nbformat": 4,
 "nbformat_minor": 5
}

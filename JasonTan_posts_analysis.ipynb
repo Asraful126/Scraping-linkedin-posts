{
 "cells": [
  {
   "cell_type": "markdown",
   "id": "dc591df6-c55f-4eca-9f80-4026c1cd2d5b",
   "metadata": {},
   "source": [
    "# Import libraries"
   ]
  },
  {
   "cell_type": "code",
   "execution_count": 1,
   "id": "cb71967c-7391-4dc7-9e85-c0fcf3752147",
   "metadata": {},
   "outputs": [],
   "source": [
    "import pandas as pd\n",
    "import matplotlib.pyplot as plt\n",
    "import seaborn as sns\n",
    "import openpyxl"
   ]
  },
  {
   "cell_type": "markdown",
   "id": "881f6a1b-eb9a-49bb-a4b4-c44dd588b8e5",
   "metadata": {},
   "source": [
    "# Load and Explore data"
   ]
  },
  {
   "cell_type": "code",
   "execution_count": 2,
   "id": "45c25e1d-b0cb-4a70-8d32-4e681cf5a626",
   "metadata": {},
   "outputs": [
    {
     "data": {
      "text/html": [
       "<div>\n",
       "<style scoped>\n",
       "    .dataframe tbody tr th:only-of-type {\n",
       "        vertical-align: middle;\n",
       "    }\n",
       "\n",
       "    .dataframe tbody tr th {\n",
       "        vertical-align: top;\n",
       "    }\n",
       "\n",
       "    .dataframe thead th {\n",
       "        text-align: right;\n",
       "    }\n",
       "</style>\n",
       "<table border=\"1\" class=\"dataframe\">\n",
       "  <thead>\n",
       "    <tr style=\"text-align: right;\">\n",
       "      <th></th>\n",
       "      <th>Post</th>\n",
       "    </tr>\n",
       "  </thead>\n",
       "  <tbody>\n",
       "    <tr>\n",
       "      <th>0</th>\n",
       "      <td>Organising in-person events invoke a state of ...</td>\n",
       "    </tr>\n",
       "    <tr>\n",
       "      <th>1</th>\n",
       "      <td>How is the rise of AI impacting the healthcare...</td>\n",
       "    </tr>\n",
       "    <tr>\n",
       "      <th>2</th>\n",
       "      <td>Data is the cornerstone of AI, and big tech is...</td>\n",
       "    </tr>\n",
       "    <tr>\n",
       "      <th>3</th>\n",
       "      <td>A question I am frequently asked is, \"How can ...</td>\n",
       "    </tr>\n",
       "    <tr>\n",
       "      <th>4</th>\n",
       "      <td>Chatting to an Aus based founder who's been st...</td>\n",
       "    </tr>\n",
       "  </tbody>\n",
       "</table>\n",
       "</div>"
      ],
      "text/plain": [
       "                                                Post\n",
       "0  Organising in-person events invoke a state of ...\n",
       "1  How is the rise of AI impacting the healthcare...\n",
       "2  Data is the cornerstone of AI, and big tech is...\n",
       "3  A question I am frequently asked is, \"How can ...\n",
       "4  Chatting to an Aus based founder who's been st..."
      ]
     },
     "execution_count": 2,
     "metadata": {},
     "output_type": "execute_result"
    }
   ],
   "source": [
    "df = pd.read_excel(\"Post.xlsx\")\n",
    "df.drop(columns='Unnamed: 0', inplace=True)\n",
    "df.head()"
   ]
  },
  {
   "cell_type": "code",
   "execution_count": 3,
   "id": "82a0924a-eee6-4938-b6e0-5b47d1cb833a",
   "metadata": {},
   "outputs": [
    {
     "data": {
      "text/plain": [
       "427"
      ]
     },
     "execution_count": 3,
     "metadata": {},
     "output_type": "execute_result"
    }
   ],
   "source": [
    "len(df)"
   ]
  },
  {
   "cell_type": "code",
   "execution_count": 4,
   "id": "216a1535-d94a-4d34-8248-2772327d81b7",
   "metadata": {},
   "outputs": [
    {
     "data": {
      "text/plain": [
       "'Organising in-person events invoke a state of anxiety like non other.\\n\\n“Will people buy tickets to come to this event?”\\n\\nFortunately, many of you have already bought tickets thanks to the success of event #1 we held last week.\\n\\nTickets are on sale and quickly selling out to event #2 in this fireside series, details below:\\n\\n▪️Topic: “Can Tech help us build a better world” \\n▪️Featuring: James Tynan, Partner at Square Peg in conversation with yours truly covering Climate, Health and AI \\n▪️Date: Next Thursday the 1st June at 6pm, Live in Sydney\\n\\nThanks to Heaps Normal, harrison.ai and Vexev for supporting this series.\\n\\nSee you there!\\n\\nhttps://lnkd.in/grsz7zeC\\n\\nMaria Catanzariti Matthew Geleta Peter Huynh'"
      ]
     },
     "execution_count": 4,
     "metadata": {},
     "output_type": "execute_result"
    }
   ],
   "source": [
    "df.Post[0]"
   ]
  },
  {
   "cell_type": "markdown",
   "id": "5921cbeb-2efc-4c2d-8850-0250dd146892",
   "metadata": {
    "tags": []
   },
   "source": [
    "# Trim first 15% and last 16% which are approximately the data of first 5 months and last six months"
   ]
  },
  {
   "cell_type": "code",
   "execution_count": 5,
   "id": "78e3ec4e-70fa-400f-9c8c-3c54b290a0d6",
   "metadata": {},
   "outputs": [
    {
     "name": "stdout",
     "output_type": "stream",
     "text": [
      "64 68\n"
     ]
    }
   ],
   "source": [
    "first, last = int(len(df)*0.15), int(len(df)*0.16)\n",
    "print(first, last)"
   ]
  },
  {
   "cell_type": "code",
   "execution_count": 6,
   "id": "fab134c3-2ed4-4bf5-a61e-a6560a12d917",
   "metadata": {},
   "outputs": [
    {
     "data": {
      "text/plain": [
       "295"
      ]
     },
     "execution_count": 6,
     "metadata": {},
     "output_type": "execute_result"
    }
   ],
   "source": [
    "df = df.iloc[first:-last]\n",
    "len(df)"
   ]
  },
  {
   "cell_type": "markdown",
   "id": "801fa56d-7852-472b-af52-43c0051698c8",
   "metadata": {},
   "source": [
    "# Collect all posts in a single string"
   ]
  },
  {
   "cell_type": "code",
   "execution_count": 7,
   "id": "77c9ce27-6120-4db8-a990-1cb6c8069d2e",
   "metadata": {},
   "outputs": [],
   "source": [
    "all_posts = \"\" \n",
    "for pst in df.Post:\n",
    "    all_posts += pst"
   ]
  },
  {
   "cell_type": "code",
   "execution_count": 8,
   "id": "4ecea66d-f819-417f-9628-75607c42573a",
   "metadata": {},
   "outputs": [],
   "source": [
    "all_posts = all_posts.lower() # all strings in lower case"
   ]
  },
  {
   "cell_type": "code",
   "execution_count": 9,
   "id": "70b68dbd-1c85-434e-9a73-c0f9d0fd9062",
   "metadata": {},
   "outputs": [
    {
     "name": "stdout",
     "output_type": "stream",
     "text": [
      "<class 'str'> 350917\n"
     ]
    }
   ],
   "source": [
    "print(type(all_posts), len(all_posts))"
   ]
  },
  {
   "cell_type": "markdown",
   "id": "ad8906f8-96a8-4c8a-ab31-965884af836c",
   "metadata": {},
   "source": [
    "# Remove regular expression from `all_posts`"
   ]
  },
  {
   "cell_type": "code",
   "execution_count": 10,
   "id": "0f765fa3-999f-4c4b-9fc6-558a535e0071",
   "metadata": {},
   "outputs": [],
   "source": [
    "import re"
   ]
  },
  {
   "cell_type": "code",
   "execution_count": 11,
   "id": "b20d822b-559f-4bc2-a4e9-3cf86c90fb0b",
   "metadata": {},
   "outputs": [],
   "source": [
    "all_posts = re.sub(r'[^a-zA-Z0-9\\s\\\"]', '', all_posts)"
   ]
  },
  {
   "cell_type": "code",
   "execution_count": 12,
   "id": "6e75942b-5d4a-483e-ad5f-aae7bff26353",
   "metadata": {},
   "outputs": [
    {
     "name": "stdout",
     "output_type": "stream",
     "text": [
      "New length:  338261\n"
     ]
    }
   ],
   "source": [
    "print(\"New length: \", len(all_posts))"
   ]
  },
  {
   "cell_type": "markdown",
   "id": "fbb87d97-1cf9-4f1c-9cdd-c51329f3c02b",
   "metadata": {},
   "source": [
    "# Remove stopwords from `all_posts`"
   ]
  },
  {
   "cell_type": "code",
   "execution_count": 13,
   "id": "4cb5a3d0-fabc-492e-a59e-c4b52de71386",
   "metadata": {},
   "outputs": [
    {
     "name": "stderr",
     "output_type": "stream",
     "text": [
      "[nltk_data] Downloading package stopwords to C:\\Users\\Asraful\n",
      "[nltk_data]     Islam\\AppData\\Roaming\\nltk_data...\n",
      "[nltk_data]   Package stopwords is already up-to-date!\n"
     ]
    },
    {
     "data": {
      "text/plain": [
       "True"
      ]
     },
     "execution_count": 13,
     "metadata": {},
     "output_type": "execute_result"
    }
   ],
   "source": [
    "#pip install nltk\n",
    "import nltk\n",
    "from nltk.corpus import stopwords\n",
    "\n",
    "# Download stopwords if not already downloaded\n",
    "nltk.download('stopwords')"
   ]
  },
  {
   "cell_type": "code",
   "execution_count": 14,
   "id": "105a7a5a-73f1-4663-8a57-e3b6b061dcae",
   "metadata": {},
   "outputs": [
    {
     "name": "stdout",
     "output_type": "stream",
     "text": [
      "['i', 'me', 'my', 'myself', 'we', 'our', 'ours', 'ourselves', 'you', \"you're\", \"you've\", \"you'll\", \"you'd\", 'your', 'yours', 'yourself', 'yourselves', 'he', 'him', 'his', 'himself', 'she', \"she's\", 'her', 'hers', 'herself', 'it', \"it's\", 'its', 'itself', 'they', 'them', 'their', 'theirs', 'themselves', 'what', 'which', 'who', 'whom', 'this', 'that', \"that'll\", 'these', 'those', 'am', 'is', 'are', 'was', 'were', 'be', 'been', 'being', 'have', 'has', 'had', 'having', 'do', 'does', 'did', 'doing', 'a', 'an', 'the', 'and', 'but', 'if', 'or', 'because', 'as', 'until', 'while', 'of', 'at', 'by', 'for', 'with', 'about', 'against', 'between', 'into', 'through', 'during', 'before', 'after', 'above', 'below', 'to', 'from', 'up', 'down', 'in', 'out', 'on', 'off', 'over', 'under', 'again', 'further', 'then', 'once', 'here', 'there', 'when', 'where', 'why', 'how', 'all', 'any', 'both', 'each', 'few', 'more', 'most', 'other', 'some', 'such', 'no', 'nor', 'not', 'only', 'own', 'same', 'so', 'than', 'too', 'very', 's', 't', 'can', 'will', 'just', 'don', \"don't\", 'should', \"should've\", 'now', 'd', 'll', 'm', 'o', 're', 've', 'y', 'ain', 'aren', \"aren't\", 'couldn', \"couldn't\", 'didn', \"didn't\", 'doesn', \"doesn't\", 'hadn', \"hadn't\", 'hasn', \"hasn't\", 'haven', \"haven't\", 'isn', \"isn't\", 'ma', 'mightn', \"mightn't\", 'mustn', \"mustn't\", 'needn', \"needn't\", 'shan', \"shan't\", 'shouldn', \"shouldn't\", 'wasn', \"wasn't\", 'weren', \"weren't\", 'won', \"won't\", 'wouldn', \"wouldn't\"]\n"
     ]
    }
   ],
   "source": [
    "stop_words = stopwords.words('english')\n",
    "print(stop_words)"
   ]
  },
  {
   "cell_type": "code",
   "execution_count": 15,
   "id": "ab76dac8-42ef-4a05-99fe-a3c33ca7a59d",
   "metadata": {},
   "outputs": [
    {
     "name": "stdout",
     "output_type": "stream",
     "text": [
      "Old length:  338261\n",
      "New length:  238954\n"
     ]
    }
   ],
   "source": [
    "words = [word for word in all_posts.split() if word not in stop_words]\n",
    "new_all_posts = \" \".join(words)\n",
    "\n",
    "print(\"Old length: \", len(all_posts))\n",
    "print(\"New length: \", len(new_all_posts))"
   ]
  },
  {
   "cell_type": "code",
   "execution_count": 16,
   "id": "6d0eabba-85a8-47a4-881c-a1fa563615eb",
   "metadata": {},
   "outputs": [
    {
     "data": {
      "text/plain": [
       "'day 5 30 gpt4 replace'"
      ]
     },
     "execution_count": 16,
     "metadata": {},
     "output_type": "execute_result"
    }
   ],
   "source": [
    "new_all_posts[0:21]"
   ]
  },
  {
   "cell_type": "markdown",
   "id": "b51bff52-6437-4e89-b7fe-0c709b2b7a0d",
   "metadata": {},
   "source": [
    "# Scrape only alphanumeric from `new_all_posts`"
   ]
  },
  {
   "cell_type": "code",
   "execution_count": 17,
   "id": "03f8cd9f-cda4-4791-a022-990b6c07326c",
   "metadata": {},
   "outputs": [
    {
     "name": "stdout",
     "output_type": "stream",
     "text": [
      "237368 <class 'str'>\n"
     ]
    }
   ],
   "source": [
    "new_str = \"\"\n",
    "for i in new_all_posts:\n",
    "    if(i.isalpha() or i == ' '):\n",
    "        new_str+=i\n",
    "all_posts_cleaned = new_str   \n",
    "print(len(all_posts_cleaned), type(all_posts_cleaned))"
   ]
  },
  {
   "cell_type": "code",
   "execution_count": 18,
   "id": "15f679ed-3d08-41c6-908e-91caefbd283d",
   "metadata": {},
   "outputs": [
    {
     "name": "stdout",
     "output_type": "stream",
     "text": [
      "There are 31438 words\n"
     ]
    }
   ],
   "source": [
    "print(f\"There are {len(all_posts_cleaned.split(' '))} words\")"
   ]
  },
  {
   "cell_type": "markdown",
   "id": "1846431e-d359-4f4f-9c67-2f64923ff208",
   "metadata": {},
   "source": [
    "# String to words"
   ]
  },
  {
   "cell_type": "code",
   "execution_count": 19,
   "id": "ac8de15e-056b-466a-90c6-5e147df6ba3c",
   "metadata": {},
   "outputs": [
    {
     "name": "stdout",
     "output_type": "stream",
     "text": [
      "31438\n"
     ]
    },
    {
     "data": {
      "text/plain": [
       "['day', '', '', 'gpt', 'replace', 'human', 'growth', 'hacker', 'hired', 'gpt']"
      ]
     },
     "execution_count": 19,
     "metadata": {},
     "output_type": "execute_result"
    }
   ],
   "source": [
    "words_in_posts_list = []\n",
    "for wrd in all_posts_cleaned.split(' '):\n",
    "    words_in_posts_list.append(wrd)\n",
    "    \n",
    "print(len(words_in_posts_list))\n",
    "words_in_posts_list[0:10]"
   ]
  },
  {
   "cell_type": "markdown",
   "id": "c34895f2-0253-44bf-8351-3e9a95ab75ff",
   "metadata": {},
   "source": [
    "# Load into data frame"
   ]
  },
  {
   "cell_type": "code",
   "execution_count": 20,
   "id": "ffc2ae27-69ff-4fe1-8c78-2f32de8b31b3",
   "metadata": {},
   "outputs": [
    {
     "data": {
      "text/html": [
       "<div>\n",
       "<style scoped>\n",
       "    .dataframe tbody tr th:only-of-type {\n",
       "        vertical-align: middle;\n",
       "    }\n",
       "\n",
       "    .dataframe tbody tr th {\n",
       "        vertical-align: top;\n",
       "    }\n",
       "\n",
       "    .dataframe thead th {\n",
       "        text-align: right;\n",
       "    }\n",
       "</style>\n",
       "<table border=\"1\" class=\"dataframe\">\n",
       "  <thead>\n",
       "    <tr style=\"text-align: right;\">\n",
       "      <th></th>\n",
       "      <th>Words_in_posts</th>\n",
       "    </tr>\n",
       "  </thead>\n",
       "  <tbody>\n",
       "    <tr>\n",
       "      <th>0</th>\n",
       "      <td>day</td>\n",
       "    </tr>\n",
       "    <tr>\n",
       "      <th>1</th>\n",
       "      <td></td>\n",
       "    </tr>\n",
       "    <tr>\n",
       "      <th>2</th>\n",
       "      <td></td>\n",
       "    </tr>\n",
       "    <tr>\n",
       "      <th>3</th>\n",
       "      <td>gpt</td>\n",
       "    </tr>\n",
       "    <tr>\n",
       "      <th>4</th>\n",
       "      <td>replace</td>\n",
       "    </tr>\n",
       "  </tbody>\n",
       "</table>\n",
       "</div>"
      ],
      "text/plain": [
       "  Words_in_posts\n",
       "0            day\n",
       "1               \n",
       "2               \n",
       "3            gpt\n",
       "4        replace"
      ]
     },
     "execution_count": 20,
     "metadata": {},
     "output_type": "execute_result"
    }
   ],
   "source": [
    "df_post = pd.DataFrame(words_in_posts_list, columns=['Words_in_posts'])\n",
    "df_post['Words_in_posts'] = df_post['Words_in_posts'].str.lower() \n",
    "df_post.head()"
   ]
  },
  {
   "cell_type": "code",
   "execution_count": 21,
   "id": "0415ac36-6063-47ae-922a-ec58d543b552",
   "metadata": {},
   "outputs": [
    {
     "data": {
      "text/plain": [
       "Post    0\n",
       "dtype: int64"
      ]
     },
     "execution_count": 21,
     "metadata": {},
     "output_type": "execute_result"
    }
   ],
   "source": [
    "df.isnull().sum()"
   ]
  },
  {
   "cell_type": "code",
   "execution_count": 22,
   "id": "2c1dac83-da78-44fe-8ba6-64349dac226b",
   "metadata": {},
   "outputs": [
    {
     "data": {
      "text/plain": [
       "31438"
      ]
     },
     "execution_count": 22,
     "metadata": {},
     "output_type": "execute_result"
    }
   ],
   "source": [
    "len(df_post[\"Words_in_posts\"].str.strip())"
   ]
  },
  {
   "cell_type": "code",
   "execution_count": 23,
   "id": "47aae2b4-0b7f-42a6-916e-406d621122bf",
   "metadata": {},
   "outputs": [],
   "source": [
    "df_post['Words_in_posts'] = df_post['Words_in_posts'].str.replace('\\W', '', regex=True)"
   ]
  },
  {
   "cell_type": "code",
   "execution_count": 24,
   "id": "e028d56b-c03a-4988-b5ba-8aff59a933f4",
   "metadata": {},
   "outputs": [
    {
     "data": {
      "text/plain": [
       "Words_in_posts\n",
       "                  492\n",
       "dtype: int64"
      ]
     },
     "execution_count": 24,
     "metadata": {},
     "output_type": "execute_result"
    }
   ],
   "source": [
    "df_post[df_post[\"Words_in_posts\"] == ''].value_counts()"
   ]
  },
  {
   "cell_type": "code",
   "execution_count": 25,
   "id": "1dfb8ee2-8892-4f16-81e4-a7cc0e50871d",
   "metadata": {},
   "outputs": [],
   "source": [
    "df_post = df_post[df_post[\"Words_in_posts\"] != '']"
   ]
  },
  {
   "cell_type": "code",
   "execution_count": 26,
   "id": "acea861d-c3e2-4ff4-8989-a38c9d9724cc",
   "metadata": {},
   "outputs": [],
   "source": [
    "df_post = df_post[df_post['Words_in_posts'].apply(lambda x: x not in stop_words)]"
   ]
  },
  {
   "cell_type": "code",
   "execution_count": 27,
   "id": "5d0e4f01-d503-494d-9235-95b017a6761a",
   "metadata": {},
   "outputs": [
    {
     "data": {
      "text/plain": [
       "30928"
      ]
     },
     "execution_count": 27,
     "metadata": {},
     "output_type": "execute_result"
    }
   ],
   "source": [
    "len(df_post[\"Words_in_posts\"])"
   ]
  },
  {
   "cell_type": "code",
   "execution_count": 28,
   "id": "cdaa6924-f37b-4398-881f-2b427dfc11c4",
   "metadata": {},
   "outputs": [
    {
     "name": "stdout",
     "output_type": "stream",
     "text": [
      "There are 5756 unique words in all posts\n"
     ]
    }
   ],
   "source": [
    "print(f\"There are {df_post['Words_in_posts'].nunique()} unique words in all posts\")"
   ]
  },
  {
   "cell_type": "code",
   "execution_count": 29,
   "id": "e064e074-ea5e-49ae-9057-5eaa2b17e153",
   "metadata": {},
   "outputs": [
    {
     "data": {
      "text/plain": [
       "Words_in_posts\n",
       "data              899\n",
       "analytics         572\n",
       "business          317\n",
       "ai                232\n",
       "click             222\n",
       "connect           202\n",
       "episode           199\n",
       "science           191\n",
       "use               156\n",
       "new               153\n",
       "also              137\n",
       "free              132\n",
       "experience        125\n",
       "share             115\n",
       "learning          115\n",
       "using             108\n",
       "comments          106\n",
       "first             106\n",
       "find              105\n",
       "content           105\n",
       "company           105\n",
       "help              103\n",
       "full              100\n",
       "team               96\n",
       "work               94\n",
       "join               94\n",
       "start              93\n",
       "future             91\n",
       "bonus              88\n",
       "us                 87\n",
       "industry           85\n",
       "customer           85\n",
       "book               84\n",
       "world              83\n",
       "one                83\n",
       "others             83\n",
       "year               83\n",
       "career             82\n",
       "embedded           80\n",
       "exclusive          80\n",
       "week               79\n",
       "strategy           79\n",
       "time               79\n",
       "take               78\n",
       "make               77\n",
       "conversation       77\n",
       "technology         77\n",
       "please             75\n",
       "podcast            75\n",
       "shares             75\n",
       "dtype: int64"
      ]
     },
     "execution_count": 29,
     "metadata": {},
     "output_type": "execute_result"
    }
   ],
   "source": [
    "df_post.value_counts(ascending=False)[0:50]"
   ]
  },
  {
   "cell_type": "code",
   "execution_count": 36,
   "id": "6a6678dc-0878-45f6-baa0-f3cdbe94d306",
   "metadata": {},
   "outputs": [
    {
     "data": {
      "image/png": "[encoded data removed]",
      "text/plain": [
       "<Figure size 720x432 with 1 Axes>"
      ]
     },
     "metadata": {
      "needs_background": "light"
     },
     "output_type": "display_data"
    }
   ],
   "source": [
    "plt.figure(figsize=(10,6))\n",
    "df_post.value_counts(ascending=False)[0:20].plot(kind='bar')\n",
    "plt.title(\"Words that were used most frequently on a users' LinkedIn posts in 2021 and 2022\")\n",
    "plt.xlabel(\"\")\n",
    "plt.ylabel(\"Frequency\")\n",
    "plt.savefig(\"word_counts.png\", dpi=100);"
   ]
  },
  {
   "cell_type": "code",
   "execution_count": 31,
   "id": "33116f23-0062-498b-bbd6-3b240e01689e",
   "metadata": {},
   "outputs": [],
   "source": [
    "df_post.to_excel('df_post.xlsx')"
   ]
  }
 ],
 "metadata": {
  "kernelspec": {
   "display_name": "Python 3 (ipykernel)",
   "language": "python",
   "name": "python3"
  },
  "language_info": {
   "codemirror_mode": {
    "name": "ipython",
    "version": 3
   },
   "file_extension": ".py",
   "mimetype": "text/x-python",
   "name": "python",
   "nbconvert_exporter": "python",
   "pygments_lexer": "ipython3",
   "version": "3.9.12"
  }
 },
 "nbformat": 4,
 "nbformat_minor": 5
}
